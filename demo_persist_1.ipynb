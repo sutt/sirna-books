{
 "cells": [
  {
   "cell_type": "markdown",
   "metadata": {},
   "source": [
    "### Proof of Concept for persistence across disconnection, GCP + Kaggle \n",
    "\n",
    "when running multi-hour cells, how to preserve the results?\n",
    "\n",
    "can you preserve:\n",
    "\n",
    " - stdout logs\n",
    " \n",
    " - file system writes\n",
    " \n",
    " - variable data"
   ]
  },
  {
   "cell_type": "code",
   "execution_count": 1,
   "metadata": {},
   "outputs": [],
   "source": [
    "import os, sys, time"
   ]
  },
  {
   "cell_type": "code",
   "execution_count": 2,
   "metadata": {},
   "outputs": [
    {
     "data": {
      "text/plain": [
       "'C:\\\\Users\\\\wsutt\\\\Desktop\\\\sirna'"
      ]
     },
     "execution_count": 2,
     "metadata": {},
     "output_type": "execute_result"
    }
   ],
   "source": [
    "os.getcwd()"
   ]
  },
  {
   "cell_type": "code",
   "execution_count": 3,
   "metadata": {},
   "outputs": [],
   "source": [
    "#to recover on re-connection\n",
    "persist_var = 17"
   ]
  },
  {
   "cell_type": "code",
   "execution_count": 4,
   "metadata": {},
   "outputs": [],
   "source": [
    "#local\n",
    "write_dir ='persist_data'"
   ]
  },
  {
   "cell_type": "code",
   "execution_count": 5,
   "metadata": {},
   "outputs": [
    {
     "name": "stdout",
     "output_type": "stream",
     "text": [
      "no directory to remove\n"
     ]
    }
   ],
   "source": [
    "try:\n",
    "    os.rmdir(write_dir)\n",
    "except:\n",
    "    print('no directory to remove')"
   ]
  },
  {
   "cell_type": "code",
   "execution_count": 6,
   "metadata": {},
   "outputs": [
    {
     "name": "stdout",
     "output_type": "stream",
     "text": [
      "folder `persist_data` created\n"
     ]
    }
   ],
   "source": [
    "# make folder if it doesnt exist\n",
    "if 'persist_data' not in os.listdir('.'):\n",
    "    os.mkdir(write_dir)\n",
    "    print('folder `persist_data` created')\n",
    "else:\n",
    "    print(os.listdir(write_dir))"
   ]
  },
  {
   "cell_type": "code",
   "execution_count": 7,
   "metadata": {},
   "outputs": [
    {
     "name": "stdout",
     "output_type": "stream",
     "text": [
      "persist_data\\file1.txt does not exist yet\n",
      "iter: 0\n",
      "iter: 1\n",
      "iter: 2\n"
     ]
    }
   ],
   "source": [
    "iters = 3\n",
    "fn = os.path.join(write_dir, 'file1.txt')\n",
    "\n",
    "try:\n",
    "    os.remove(fn)\n",
    "except:\n",
    "    print(f'{fn} does not exist yet')\n",
    "    \n",
    "for iter in range(iters):\n",
    "    print(f'iter: {iter}')\n",
    "    with open(fn, 'a') as f:\n",
    "        f.write(str(iter) + '\\n')\n",
    "    time.sleep(10)"
   ]
  },
  {
   "cell_type": "code",
   "execution_count": 8,
   "metadata": {},
   "outputs": [
    {
     "data": {
      "text/plain": [
       "['0\\n', '1\\n', '2\\n']"
      ]
     },
     "execution_count": 8,
     "metadata": {},
     "output_type": "execute_result"
    }
   ],
   "source": [
    "with open(fn, 'r') as f:\n",
    "    lines = f.readlines()\n",
    "    \n",
    "lines"
   ]
  },
  {
   "cell_type": "markdown",
   "metadata": {},
   "source": [
    "##### end of script"
   ]
  }
 ],
 "metadata": {
  "kernelspec": {
   "display_name": "Python [conda env:root]",
   "language": "python",
   "name": "conda-root-py"
  },
  "language_info": {
   "codemirror_mode": {
    "name": "ipython",
    "version": 3
   },
   "file_extension": ".py",
   "mimetype": "text/x-python",
   "name": "python",
   "nbconvert_exporter": "python",
   "pygments_lexer": "ipython3",
   "version": "3.7.3"
  }
 },
 "nbformat": 4,
 "nbformat_minor": 2
}
